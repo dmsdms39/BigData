{
 "cells": [
  {
   "cell_type": "markdown",
   "metadata": {},
   "source": [
    "## Day1 - 파이썬 기초(20.01.13)\n",
    "input으로 받으면 str문자, int로 바꾸기"
   ]
  },
  {
   "cell_type": "code",
   "execution_count": 1,
   "metadata": {},
   "outputs": [
    {
     "name": "stdout",
     "output_type": "stream",
     "text": [
      "90\n"
     ]
    }
   ],
   "source": [
    "a = 90\n",
    "print(a)"
   ]
  },
  {
   "cell_type": "code",
   "execution_count": 3,
   "metadata": {},
   "outputs": [
    {
     "name": "stdout",
     "output_type": "stream",
     "text": [
      "Hello world!\n"
     ]
    }
   ],
   "source": [
    "print(\"Hello world!\")"
   ]
  },
  {
   "cell_type": "code",
   "execution_count": 8,
   "metadata": {},
   "outputs": [
    {
     "data": {
      "text/plain": [
       "'l r'"
      ]
     },
     "execution_count": 8,
     "metadata": {},
     "output_type": "execute_result"
    }
   ],
   "source": [
    "s = \"hello world\"\n",
    "s[2:9:3]"
   ]
  },
  {
   "cell_type": "markdown",
   "metadata": {},
   "source": [
    "2부터 9까지 3칸씩 출력(l,공백,r)"
   ]
  },
  {
   "cell_type": "code",
   "execution_count": 11,
   "metadata": {},
   "outputs": [
    {
     "name": "stdout",
     "output_type": "stream",
     "text": [
      "i am Tom\n",
      "i am Tom, 12 years old\n"
     ]
    }
   ],
   "source": [
    "name =\"Tom\"\n",
    "age=12\n",
    "\n",
    "print(\"i am %s\" %name)\n",
    "print(\"i am %s, %d years old\" %(name, age))"
   ]
  },
  {
   "cell_type": "code",
   "execution_count": 15,
   "metadata": {},
   "outputs": [
    {
     "data": {
      "text/plain": [
       "'i like apple,banana'"
      ]
     },
     "execution_count": 15,
     "metadata": {},
     "output_type": "execute_result"
    }
   ],
   "source": [
    "\"i like {0},{1}\" .format(\"apple\", \"banana\")"
   ]
  },
  {
   "cell_type": "markdown",
   "metadata": {},
   "source": [
    "변수종류를 알땐 위에방법 모르면 .format"
   ]
  },
  {
   "cell_type": "code",
   "execution_count": 14,
   "metadata": {},
   "outputs": [
    {
     "name": "stdout",
     "output_type": "stream",
     "text": [
      "수학점수: 95, 영어점수: 65\n"
     ]
    }
   ],
   "source": [
    "math = 95\n",
    "english = 65\n",
    "print(f\"수학점수: {math}, 영어점수: {english}\")"
   ]
  },
  {
   "cell_type": "code",
   "execution_count": 36,
   "metadata": {},
   "outputs": [
    {
     "name": "stdout",
     "output_type": "stream",
     "text": [
      "오늘날짜 2020 / 0113 좋아하는 메뉴: chicken 19000원\n"
     ]
    }
   ],
   "source": [
    "a=\"20200113chicken19000\"\n",
    "\n",
    "year= a[0:4]\n",
    "day= a[4:8]\n",
    "menu=a[8:15]\n",
    "money=a[15:20]\n",
    "\n",
    "print(\"오늘날짜 \" + year+\" /\", day, \"좋아하는 메뉴: \"+ menu, money+\"원\")\n"
   ]
  },
  {
   "cell_type": "code",
   "execution_count": 4,
   "metadata": {
    "collapsed": true
   },
   "outputs": [
    {
     "name": "stdout",
     "output_type": "stream",
     "text": [
      "정수를 입력하세요: 10\n",
      "\n",
      "안녕\n",
      "\n",
      "안녕\n",
      "\n",
      "안녕\n",
      "\n",
      "안녕\n",
      "\n",
      "안녕\n",
      "\n",
      "안녕\n",
      "\n",
      "안녕\n",
      "\n",
      "안녕\n",
      "\n",
      "안녕\n",
      "\n",
      "안녕\n"
     ]
    }
   ],
   "source": [
    "a = int(input(\"정수를 입력하세요: \"))\n",
    "for i in range(0, a):\n",
    "    print(\"\\n안녕\")"
   ]
  },
  {
   "cell_type": "code",
   "execution_count": 30,
   "metadata": {},
   "outputs": [
    {
     "name": "stdout",
     "output_type": "stream",
     "text": [
      "[30, 60, 90, 200, -70, -50]\n"
     ]
    }
   ],
   "source": [
    "x = [3,6,9,20,-7,-5]\n",
    "for i, val in enumerate(x):\n",
    "    x[i] *= 10\n",
    "\n",
    "print(x)"
   ]
  },
  {
   "cell_type": "code",
   "execution_count": 36,
   "metadata": {},
   "outputs": [
    {
     "data": {
      "text/plain": [
       "{'math': 80, 'science': 90, 'english': 30}"
      ]
     },
     "execution_count": 36,
     "metadata": {},
     "output_type": "execute_result"
    }
   ],
   "source": [
    "x = {\"math\":70,\"science\":80,\"english\":20}\n",
    "for i in x:\n",
    "   x[i]+=10\n",
    "x"
   ]
  },
  {
   "cell_type": "code",
   "execution_count": 41,
   "metadata": {},
   "outputs": [
    {
     "data": {
      "text/plain": [
       "{1: [1, 2, 3], 3: [4, 5, 6]}"
      ]
     },
     "execution_count": 41,
     "metadata": {},
     "output_type": "execute_result"
    }
   ],
   "source": [
    "a={1:[1,2,3],2:[2,3,4],3:[4,5,6]}\n",
    "del a[2]\n",
    "a"
   ]
  },
  {
   "cell_type": "code",
   "execution_count": null,
   "metadata": {},
   "outputs": [],
   "source": []
  }
 ],
 "metadata": {
  "kernelspec": {
   "display_name": "Python 3",
   "language": "python",
   "name": "python3"
  },
  "language_info": {
   "codemirror_mode": {
    "name": "ipython",
    "version": 3
   },
   "file_extension": ".py",
   "mimetype": "text/x-python",
   "name": "python",
   "nbconvert_exporter": "python",
   "pygments_lexer": "ipython3",
   "version": "3.7.4"
  }
 },
 "nbformat": 4,
 "nbformat_minor": 2
}
